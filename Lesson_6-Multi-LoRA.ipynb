{
 "cells": [
  {
   "cell_type": "markdown",
   "id": "6eddab55",
   "metadata": {},
   "source": [
    "# Lesson 6 - Multi-LoRA\n",
    "\n",
    "\n",
    "In this lesson, we'll see how to efficiently serve dozens of fine-tuned models together in a single deployment without sacrificing latency."
   ]
  },
  {
   "cell_type": "markdown",
   "id": "1501fea0",
   "metadata": {},
   "source": [
    "### Import required packages"
   ]
  },
  {
   "cell_type": "code",
   "execution_count": 1,
   "id": "c7964cc5-0d8d-4ff1-9cdc-89032e45fa6e",
   "metadata": {
    "height": 149
   },
   "outputs": [],
   "source": [
    "import copy\n",
    "import matplotlib.pyplot as plt\n",
    "import numpy as np\n",
    "import random\n",
    "import time\n",
    "import torch\n",
    "import torch.nn.functional as F\n",
    "from tqdm import tqdm"
   ]
  },
  {
   "cell_type": "markdown",
   "id": "2b62bb64",
   "metadata": {},
   "source": [
    "### Let's create a new model\n",
    "\n",
    "We will start with creating an extension to the model from lesson 5. It has a custom helper function for computing the LoRA layer step with multiple LoRAs per batch."
   ]
  },
  {
   "cell_type": "code",
   "execution_count": 2,
   "id": "ecf12393-deae-4daa-a93a-0b7faa3ad3ff",
   "metadata": {
    "height": 506
   },
   "outputs": [],
   "source": [
    "class AbstractMultiLoraModel(torch.nn.Module):\n",
    "    def __init__(self):\n",
    "        super().__init__()\n",
    "        \n",
    "        # hidden_size = 10\n",
    "        # set this so low to ensure we are not \n",
    "        # compute-bound by the linear layer\n",
    "        # this is only an issue when running on CPU, \n",
    "        # for GPUs we can set this much\n",
    "        # higher and still avoid being compute bound\n",
    "        self.embedding = torch.nn.Embedding(10, 10)\n",
    "        self.linear = torch.nn.Linear(10, 10)\n",
    "        self.lm_head = torch.nn.Linear(10, 10)\n",
    "\n",
    "    def linear_lora(\n",
    "        self,\n",
    "        x: torch.Tensor,                 # (batch_size, seq_len, in_features)\n",
    "        loras_a: torch.Tensor,           # (num_loras, in_features, rank)\n",
    "        loras_b: torch.Tensor,           # (num_loras, rank, out_features)\n",
    "        lora_indices: torch.LongTensor,  # (batch_size,)\n",
    "    ) -> torch.Tensor:\n",
    "        # y[i] = x[i] @ loras_a[lora_idx] @ loras_b[lora_idx]\n",
    "        raise NotImplementedError()\n",
    "\n",
    "    def forward(self, input_ids, loras_a, loras_b, lora_indices):\n",
    "        x = self.embedding(input_ids)\n",
    "        x = self.linear_lora(x, loras_a, loras_b, lora_indices)\n",
    "        x = self.lm_head(x)\n",
    "        return x"
   ]
  },
  {
   "cell_type": "markdown",
   "id": "2ae0ebbf",
   "metadata": {},
   "source": [
    "### Using a loop\n",
    "\n",
    "Our first attempt to infer across multiple LoRAs will be straightforward: just loop over every row in the batch and apply the correct LoRA using an index mapping: `batch_index --> lora_index`."
   ]
  },
  {
   "cell_type": "code",
   "execution_count": 3,
   "id": "94861153-8bfe-4ae5-9b31-fa7f78e23793",
   "metadata": {
    "height": 251
   },
   "outputs": [],
   "source": [
    "class LoopMultiLoraModel(AbstractMultiLoraModel):\n",
    "    def linear_lora(\n",
    "        self,\n",
    "        x: torch.Tensor,                 # (batch_size, seq_len, in_features)\n",
    "        loras_a: torch.Tensor,           # (num_loras, in_features, lora_rank)\n",
    "        loras_b: torch.Tensor,           # (num_loras, lora_rank, out_features)\n",
    "        lora_indices: torch.LongTensor,  # (batch_size,)\n",
    "    ) -> torch.Tensor:\n",
    "        y = self.linear(x)\n",
    "        for batch_idx, lora_idx in enumerate(lora_indices.numpy()):\n",
    "            lora_a = loras_a[lora_idx]\n",
    "            lora_b = loras_b[lora_idx]\n",
    "            y[batch_idx] += x[batch_idx] @ lora_a @ lora_b\n",
    "        return y"
   ]
  },
  {
   "cell_type": "code",
   "execution_count": 4,
   "id": "a75c87fe-41e3-45ba-aeec-6e00b48e9d53",
   "metadata": {
    "height": 234
   },
   "outputs": [],
   "source": [
    "# toy example of a detokenizer. The vocabular only consists of 10 words (different colors)\n",
    "detokenizer = [\n",
    "    \"red\",\n",
    "    \"orange\",\n",
    "    \"yellow\",\n",
    "    \"green\",\n",
    "    \"blue\",\n",
    "    \"indigo\",\n",
    "    \"violet\",\n",
    "    \"magenta\",\n",
    "    \"marigold\",\n",
    "    \"chartreuse\",\n",
    "]"
   ]
  },
  {
   "cell_type": "code",
   "execution_count": 5,
   "id": "8e45b3e3-df57-4da1-af74-6658d677b9a1",
   "metadata": {
    "height": 47
   },
   "outputs": [],
   "source": [
    "# dummy inputs\n",
    "input_ids = torch.LongTensor([[0, 1, 2, 3, 4, 5, 6, 7]])"
   ]
  },
  {
   "cell_type": "code",
   "execution_count": 6,
   "id": "3b1f7a87-f359-40d9-b5f1-e516c855f6bb",
   "metadata": {
    "height": 30
   },
   "outputs": [
    {
     "data": {
      "text/plain": [
       "<torch._C.Generator at 0x7fa66957d550>"
      ]
     },
     "execution_count": 6,
     "metadata": {},
     "output_type": "execute_result"
    }
   ],
   "source": [
    "torch.manual_seed(42)"
   ]
  },
  {
   "cell_type": "code",
   "execution_count": 7,
   "id": "ecd7fc8d-be71-416b-888d-391714dd8eeb",
   "metadata": {
    "height": 132
   },
   "outputs": [],
   "source": [
    "def generate_token(model, **kwargs):\n",
    "    with torch.no_grad():\n",
    "        logits = model(**kwargs)\n",
    "    last_logits = logits[:, -1, :]\n",
    "    next_token_ids = last_logits.argmax(dim=1)\n",
    "\n",
    "    return [detokenizer[token_id] for token_id in next_token_ids]"
   ]
  },
  {
   "cell_type": "code",
   "execution_count": 8,
   "id": "a30f863f-36b9-4f2c-9a06-33a3c5ef565c",
   "metadata": {
    "height": 30
   },
   "outputs": [],
   "source": [
    "model = LoopMultiLoraModel()"
   ]
  },
  {
   "cell_type": "markdown",
   "id": "ecbbe14c",
   "metadata": {},
   "source": [
    "### Let's try it!\n",
    "\n",
    "We will try this over a few random LoRAs using a fixed tensor of input_ids. If our multi-LoRA generation process is working as designed, we should see a variety of different outputs generated as we randomly iterate over the LoRAs."
   ]
  },
  {
   "cell_type": "code",
   "execution_count": 9,
   "id": "818f27ef-9e6e-4aa5-bebd-06c2ffa7e711",
   "metadata": {
    "height": 370
   },
   "outputs": [
    {
     "name": "stdout",
     "output_type": "stream",
     "text": [
      "['orange']\n",
      "['red']\n",
      "['chartreuse']\n",
      "['yellow']\n",
      "['marigold']\n",
      "['yellow']\n",
      "['red']\n",
      "['orange']\n",
      "['violet']\n",
      "['red']\n"
     ]
    }
   ],
   "source": [
    "# constants\n",
    "bs = 1\n",
    "num_loras = 64\n",
    "h = 10\n",
    "r = 2\n",
    "\n",
    "# create contiguous blocks for 64 random LoRA weights\n",
    "loras_a = torch.randn(num_loras, h, r)\n",
    "loras_b = torch.randn(num_loras, r, h)\n",
    "\n",
    "for i in range(10):\n",
    "    # randomize the LoRAs each iteration\n",
    "    lora_indices = torch.randint(num_loras, (bs,), dtype=torch.long)\n",
    "    next_token = generate_token(\n",
    "        model,\n",
    "        input_ids=input_ids,\n",
    "        loras_a=loras_a,\n",
    "        loras_b=loras_b,\n",
    "        lora_indices=lora_indices,\n",
    "    )\n",
    "    print(next_token)"
   ]
  },
  {
   "cell_type": "markdown",
   "id": "1108cbf5",
   "metadata": {},
   "source": [
    "### Let's benchmark our multi-LoRA system!\n",
    "\n",
    "We will measure the average latency to generate a single token as the batch size increases and each element within the batch can have a different LoRA adapter (chosen randomly)."
   ]
  },
  {
   "cell_type": "code",
   "execution_count": 10,
   "id": "798ce936-fbad-4a49-8c86-2c2b4ec3747b",
   "metadata": {
    "height": 608
   },
   "outputs": [],
   "source": [
    "# constants\n",
    "seq_len = 8\n",
    "vocab_size = 10\n",
    "nsamples = 500\n",
    "max_batch_size = 64\n",
    "\n",
    "\n",
    "def benchmark(model):\n",
    "    avg_latencies = []\n",
    "    for bs in range(1, max_batch_size + 1):\n",
    "        latencies = []\n",
    "        for _ in range(nsamples):\n",
    "            # randomize the inputs and LoRA indices\n",
    "            input_ids = torch.randint(\n",
    "                vocab_size, (bs, seq_len), dtype=torch.long)\n",
    "            lora_indices = torch.randint(\n",
    "                num_loras, (bs,), dtype=torch.long)\n",
    "\n",
    "            # measure the end-to-end latency for \n",
    "            # generating a single token\n",
    "            t0 = time.time()\n",
    "            next_token = generate_token(\n",
    "                model,\n",
    "                input_ids=input_ids,\n",
    "                loras_a=loras_a,\n",
    "                loras_b=loras_b,\n",
    "                lora_indices=lora_indices,\n",
    "            )\n",
    "            latencies.append(time.time() - t0)\n",
    "\n",
    "        # average the latency across all the samples\n",
    "        latency_s = sum(latencies) / len(latencies)\n",
    "        avg_latencies.append(latency_s)\n",
    "        print(bs, latency_s)\n",
    "    return avg_latencies"
   ]
  },
  {
   "cell_type": "markdown",
   "id": "b1c960d4",
   "metadata": {},
   "source": [
    "**Note:** Your results might differ from those shown in the video, but they will still follow the same pattern."
   ]
  },
  {
   "cell_type": "code",
   "execution_count": 11,
   "id": "33d1f038-a3a9-4e4f-be18-36af0a31572a",
   "metadata": {
    "height": 30
   },
   "outputs": [
    {
     "name": "stdout",
     "output_type": "stream",
     "text": [
      "1 0.0001378173828125\n",
      "2 0.0001707162857055664\n",
      "3 0.00016969823837280273\n",
      "4 0.0001935725212097168\n",
      "5 0.00023235368728637696\n",
      "6 0.00024792671203613284\n",
      "7 0.0002855405807495117\n",
      "8 0.0002953944206237793\n",
      "9 0.00030487060546875\n",
      "10 0.00033524703979492186\n",
      "11 0.0003652205467224121\n",
      "12 0.0003861560821533203\n",
      "13 0.0004303889274597168\n",
      "14 0.0004181675910949707\n",
      "15 0.00044370174407958984\n",
      "16 0.000493293285369873\n",
      "17 0.0005306191444396973\n",
      "18 0.0005229482650756836\n",
      "19 0.0005610122680664063\n",
      "20 0.0005640387535095215\n",
      "21 0.000607351303100586\n",
      "22 0.0006282129287719727\n",
      "23 0.0006234974861145019\n",
      "24 0.0006571402549743653\n",
      "25 0.0006849589347839355\n",
      "26 0.0007356295585632325\n",
      "27 0.0007688727378845215\n",
      "28 0.0007946677207946777\n",
      "29 0.0007931842803955079\n",
      "30 0.0007697606086730957\n",
      "31 0.0008588557243347168\n",
      "32 0.0008304324150085449\n",
      "33 0.0008718585968017578\n",
      "34 0.0008711609840393067\n",
      "35 0.0008982634544372559\n",
      "36 0.0010684690475463868\n",
      "37 0.0011349692344665527\n",
      "38 0.0011550097465515138\n",
      "39 0.0010806660652160644\n",
      "40 0.0010315017700195312\n",
      "41 0.001112259864807129\n",
      "42 0.0010917248725891113\n",
      "43 0.0011434574127197265\n",
      "44 0.0011500635147094727\n",
      "45 0.001143465518951416\n",
      "46 0.001203223705291748\n",
      "47 0.0012160382270812989\n",
      "48 0.0012446794509887696\n",
      "49 0.001344104766845703\n",
      "50 0.0012636089324951172\n",
      "51 0.0013114228248596192\n",
      "52 0.0013168177604675293\n",
      "53 0.0013032503128051758\n",
      "54 0.0013330039978027345\n",
      "55 0.001374399185180664\n",
      "56 0.0014064702987670898\n",
      "57 0.0014324469566345216\n",
      "58 0.0014853310585021973\n",
      "59 0.0014591612815856934\n",
      "60 0.0014837822914123536\n",
      "61 0.0014999351501464844\n",
      "62 0.0015147180557250977\n",
      "63 0.001536982536315918\n",
      "64 0.0015477581024169922\n"
     ]
    }
   ],
   "source": [
    "avg_latencies_loop = benchmark(model)"
   ]
  },
  {
   "cell_type": "markdown",
   "id": "3e88a95a",
   "metadata": {},
   "source": [
    "### Let's visualize it!\n",
    "\n",
    "**Note**: Your plot may vary slightly from the one shown in the video, yet it will exhibit a similar pattern."
   ]
  },
  {
   "cell_type": "code",
   "execution_count": 12,
   "id": "cf2c5122-37da-4a58-8e1a-ca211dc2551f",
   "metadata": {
    "height": 166
   },
   "outputs": [
    {
     "data": {
      "image/png": "[encoded data removed]",
      "text/plain": [
       "<Figure size 640x480 with 1 Axes>"
      ]
     },
     "metadata": {},
     "output_type": "display_data"
    }
   ],
   "source": [
    "x = list(range(1, max_batch_size + 1))\n",
    "plt.plot(x, avg_latencies_loop, label=\"loop\")\n",
    "\n",
    "plt.xlabel('Batch Size')\n",
    "plt.ylabel('Avg Latency (s)')\n",
    "plt.title('Multi-LoRA latency w.r.t. batch size')\n",
    "plt.legend()\n",
    "\n",
    "plt.show()"
   ]
  },
  {
   "cell_type": "markdown",
   "id": "4adf9077",
   "metadata": {},
   "source": [
    "### Let's vectorize the LoRA computation\n",
    "\n",
    "We will vectorize the LoRA computation by:\n",
    "\n",
    "1. Gather the LoRA weight for each batch into a single tensor using `torch.index_select`.\n",
    "2. Apply LoRA computation once for the entire input tensor."
   ]
  },
  {
   "cell_type": "code",
   "execution_count": 13,
   "id": "5801f273-741e-4466-bb63-b8913562723b",
   "metadata": {
    "height": 268
   },
   "outputs": [],
   "source": [
    "class GatheredMultiLoraModel(AbstractMultiLoraModel):\n",
    "    def linear_lora(\n",
    "        self,\n",
    "        x: torch.Tensor,                 # (batch_size, seq_len, in_features)\n",
    "        loras_a: torch.Tensor,           # (num_loras, in_features, lora_rank)\n",
    "        loras_b: torch.Tensor,           # (num_loras, lora_rank, out_features)\n",
    "        lora_indices: torch.LongTensor,  # (batch_size,)\n",
    "    ) -> torch.Tensor:\n",
    "        y = self.linear(x)\n",
    "        \n",
    "        # gather the LoRA weights into a new tensor and apply\n",
    "        lora_a = torch.index_select(loras_a, 0, lora_indices) # (batch_size, in_features, lora_rank)\n",
    "        lora_b = torch.index_select(loras_b, 0, lora_indices) # (batch_size, lora_rank, out_features)\n",
    "        y += x @ lora_a @ lora_b\n",
    "        return y"
   ]
  },
  {
   "cell_type": "code",
   "execution_count": 14,
   "id": "f8aafb6e-6981-4c83-9f9d-60d2e8958746",
   "metadata": {
    "height": 30
   },
   "outputs": [],
   "source": [
    "model = GatheredMultiLoraModel()"
   ]
  },
  {
   "cell_type": "markdown",
   "id": "2f6ae3db",
   "metadata": {},
   "source": [
    "**Note:** Your results might differ from those shown in the video, but they will still follow the same pattern."
   ]
  },
  {
   "cell_type": "code",
   "execution_count": 15,
   "id": "c3843d58-4fd5-4141-a73a-69d1d01db89d",
   "metadata": {
    "height": 30
   },
   "outputs": [
    {
     "name": "stdout",
     "output_type": "stream",
     "text": [
      "1 0.00013459396362304688\n",
      "2 0.002164257526397705\n",
      "3 0.0022032432556152344\n",
      "4 0.001991424083709717\n",
      "5 0.0020047240257263185\n",
      "6 0.001987138271331787\n",
      "7 0.002383075714111328\n",
      "8 0.0019982810020446776\n",
      "9 0.0018358030319213868\n",
      "10 0.002188999652862549\n",
      "11 0.002563892841339111\n",
      "12 0.002392944812774658\n",
      "13 0.002378297805786133\n",
      "14 0.0024136486053466795\n",
      "15 0.002375190258026123\n",
      "16 0.002374471187591553\n",
      "17 0.0023876972198486326\n",
      "18 0.0023939681053161623\n",
      "19 0.002380338668823242\n",
      "20 0.002414475917816162\n",
      "21 0.002576235771179199\n",
      "22 0.0029679837226867676\n",
      "23 0.0028239340782165528\n",
      "24 0.003182462215423584\n",
      "25 0.0031651697158813475\n",
      "26 0.003177494525909424\n",
      "27 0.0031710267066955566\n",
      "28 0.0027932744026184083\n",
      "29 0.0029531378746032715\n",
      "30 0.0029777488708496096\n",
      "31 0.003571716785430908\n",
      "32 0.0029865593910217286\n",
      "33 0.002974442481994629\n",
      "34 0.002809666633605957\n",
      "35 0.0029839000701904297\n",
      "36 0.0029730491638183592\n",
      "37 0.0029780678749084474\n",
      "38 0.0028070025444030763\n",
      "39 0.00298643684387207\n",
      "40 0.0027966256141662596\n",
      "41 0.0033711795806884767\n",
      "42 0.0037720394134521484\n",
      "43 0.003777246952056885\n",
      "44 0.003966376781463623\n",
      "45 0.003967692375183105\n",
      "46 0.004169062614440918\n",
      "47 0.004368752479553223\n",
      "48 0.004170480728149414\n",
      "49 0.003798370361328125\n",
      "50 0.003970481872558594\n",
      "51 0.003378903865814209\n",
      "52 0.0037622132301330566\n",
      "53 0.0035642895698547363\n",
      "54 0.0032026338577270507\n",
      "55 0.004375096797943115\n",
      "56 0.004560108661651611\n",
      "57 0.003967927932739258\n",
      "58 0.004176898956298828\n",
      "59 0.00415973711013794\n",
      "60 0.004202428817749023\n",
      "61 0.004389852046966553\n",
      "62 0.004759829521179199\n",
      "63 0.004395434856414795\n",
      "64 0.003814279556274414\n"
     ]
    }
   ],
   "source": [
    "avg_latencies_gathered = benchmark(model)"
   ]
  },
  {
   "cell_type": "markdown",
   "id": "f7603255",
   "metadata": {},
   "source": [
    "### Let's visualize it!\n",
    "\n",
    "**Note**: Your plot may vary slightly from the one shown in the video, yet it will exhibit a similar pattern."
   ]
  },
  {
   "cell_type": "code",
   "execution_count": 16,
   "id": "fee3360b-a610-4c48-91d1-09d33647f1aa",
   "metadata": {
    "height": 183
   },
   "outputs": [
    {
     "data": {
      "image/png": "[encoded data removed]",
      "text/plain": [
       "<Figure size 640x480 with 1 Axes>"
      ]
     },
     "metadata": {},
     "output_type": "display_data"
    }
   ],
   "source": [
    "x = list(range(1, max_batch_size + 1))\n",
    "plt.plot(x, avg_latencies_loop, label=\"loop\")\n",
    "plt.plot(x, avg_latencies_gathered, label=\"gathered\")\n",
    "\n",
    "plt.xlabel('Batch Size')\n",
    "plt.ylabel('Avg Latency (s)')\n",
    "plt.title('Multi-LoRA latency w.r.t. batch size')\n",
    "plt.legend()\n",
    "\n",
    "plt.show()"
   ]
  }
 ],
 "metadata": {
  "kernelspec": {
   "display_name": "Python 3 (ipykernel)",
   "language": "python",
   "name": "python3"
  },
  "language_info": {
   "codemirror_mode": {
    "name": "ipython",
    "version": 3
   },
   "file_extension": ".py",
   "mimetype": "text/x-python",
   "name": "python",
   "nbconvert_exporter": "python",
   "pygments_lexer": "ipython3",
   "version": "3.11.8"
  }
 },
 "nbformat": 4,
 "nbformat_minor": 5
}
